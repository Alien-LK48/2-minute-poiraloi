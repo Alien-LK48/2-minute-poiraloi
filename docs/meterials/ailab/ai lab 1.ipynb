{
  "cells": [
    {
      "cell_type": "code",
      "execution_count": 1,
      "metadata": {
        "colab": {
          "base_uri": "https://localhost:8080/"
        },
        "id": "Rcc1b7PUea_U",
        "outputId": "de0b6eb1-bc7b-45e3-b463-092a5823b88f"
      },
      "outputs": [
        {
          "name": "stdout",
          "output_type": "stream",
          "text": [
            "A B C G D E F "
          ]
        }
      ],
      "source": [
        "from collections import deque\n",
        "\n",
        "\n",
        "def bfs(graph, start):\n",
        "    visited = set()\n",
        "    queue = deque([start])\n",
        "    visited.add(start)\n",
        "    while queue:\n",
        "        vertex = queue.popleft()\n",
        "        print(vertex, end=\" \")\n",
        "        for neighbor in graph[vertex]:\n",
        "            if neighbor not in visited:\n",
        "                visited.add(neighbor)\n",
        "                queue.append(neighbor)\n",
        "\n",
        "\n",
        "graph = {\n",
        "    \"A\": [\"B\", \"C\", \"A\"],\n",
        "    \"B\": [\"G\", \"D\", \"E\", \"F\", \"B\", \"C\"],\n",
        "    \"C\": [\"A\", \"F\", \"G\", \"B\", \"D\", \"E\"],\n",
        "    \"D\": [\"B\", \"E\"],\n",
        "    \"E\": [\"A\"],\n",
        "    \"F\": [\"C\"],\n",
        "    \"G\": [\"C\", \"A\",\"G\", \"B\", \"D\"],\n",
        "}\n",
        "\n",
        "bfs(graph, \"A\")\n"
      ]
    },
    {
      "cell_type": "code",
      "execution_count": 2,
      "metadata": {
        "colab": {
          "base_uri": "https://localhost:8080/"
        },
        "id": "MCZh95SNedI2",
        "outputId": "b9f6d8f7-529a-47b3-c4e0-1cb48928651d"
      },
      "outputs": [
        {
          "name": "stdout",
          "output_type": "stream",
          "text": [
            "A B G C F E D "
          ]
        }
      ],
      "source": [
        "def dfs(graph, start, visited=None):\n",
        "    if visited is None:\n",
        "        visited = set()\n",
        "    visited.add(start)\n",
        "    print(start, end=\" \")\n",
        "    for neighbor in graph[start]:\n",
        "        if neighbor not in visited:\n",
        "            dfs(graph, neighbor, visited)\n",
        "\n",
        "\n",
        "graph = {\n",
        "    \"A\": [\"B\", \"C\", \"A\"],\n",
        "    \"B\": [\"G\", \"D\", \"E\", \"F\", \"B\", \"C\"],\n",
        "    \"C\": [\"A\", \"F\", \"G\", \"B\", \"D\", \"E\"],\n",
        "    \"D\": [\"B\", \"E\"],\n",
        "    \"E\": [\"A\"],\n",
        "    \"F\": [\"C\"],\n",
        "    \"G\": [\"C\", \"A\",\"G\", \"B\", \"D\"],\n",
        "}\n",
        "dfs(graph, \"A\")\n"
      ]
    }
  ],
  "metadata": {
    "colab": {
      "provenance": []
    },
    "kernelspec": {
      "display_name": "Python 3",
      "name": "python3"
    },
    "language_info": {
      "name": "python"
    }
  },
  "nbformat": 4,
  "nbformat_minor": 0
}

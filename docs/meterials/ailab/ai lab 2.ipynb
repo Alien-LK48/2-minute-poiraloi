{
  "cells": [
    {
      "cell_type": "code",
      "execution_count": null,
      "metadata": {
        "colab": {
          "base_uri": "https://localhost:8080/"
        },
        "id": "wZc_Hz8yxRwO",
        "outputId": "d7bf47a0-1297-40b1-cea3-0f540eaee7a4"
      },
      "outputs": [
        {
          "name": "stdout",
          "output_type": "stream",
          "text": [
            "Path found by Best-First Search: ['A', 'B', 'E']\n"
          ]
        }
      ],
      "source": [
        "# Best-First Search Implementation\n",
        "import heapq\n",
        "\n",
        "def best_first_search(graph, start, goal, heuristic):\n",
        "    open_list = []\n",
        "    heapq.heappush(open_list, (heuristic[start], start))\n",
        "    came_from = {start: None}\n",
        "    cost_so_far = {start: 0}\n",
        "\n",
        "    while open_list:\n",
        "        _, current = heapq.heappop(open_list)\n",
        "\n",
        "        if current == goal:\n",
        "            break\n",
        "\n",
        "        for neighbor, cost in graph[current]:\n",
        "            if neighbor not in came_from:\n",
        "                priority = heuristic[neighbor]\n",
        "                heapq.heappush(open_list, (priority, neighbor))\n",
        "                came_from[neighbor] = current\n",
        "                cost_so_far[neighbor] = cost_so_far[current] + cost\n",
        "\n",
        "    path = []\n",
        "    node = goal\n",
        "    while node is not None:\n",
        "        path.append(node)\n",
        "        node = came_from[node]\n",
        "    path.reverse()\n",
        "    return path\n",
        "\n",
        "# Define the graph as an adjacency list with edge costs\n",
        "graph = {\n",
        "    'A': [('B', 1), ('C', 4), ('D', 2)],\n",
        "    'B': [('E', 6)],\n",
        "    'C': [('E', 2)],\n",
        "    'D': [('E', 3)],\n",
        "    'E': []\n",
        "}\n",
        "\n",
        "# Define heuristic values for each node\n",
        "heuristic = {\n",
        "    'A': 5,\n",
        "    'B': 3,\n",
        "    'C': 3,\n",
        "    'D': 6,\n",
        "    'E': 0\n",
        "}\n",
        "\n",
        "# Run Best-First Search from node 'A' to node 'E'\n",
        "path = best_first_search(graph, 'A', 'E', heuristic)\n",
        "print(\"Path found by Best-First Search:\", path)\n"
      ]
    },
    {
      "cell_type": "code",
      "execution_count": null,
      "metadata": {
        "colab": {
          "base_uri": "https://localhost:8080/"
        },
        "id": "YyusBESpx2IJ",
        "outputId": "0d4322a8-9731-46cf-80fa-7be652a8cbd1"
      },
      "outputs": [
        {
          "name": "stdout",
          "output_type": "stream",
          "text": [
            "Path found by A* Search: ['A', 'C', 'E']\n"
          ]
        }
      ],
      "source": [
        "import heapq\n",
        "\n",
        "def a_star_search(graph, start, goal, heuristic):\n",
        "    # Priority queue for nodes to explore; each entry is a tuple (cost, node)\n",
        "    open_list = []\n",
        "    heapq.heappush(open_list, (0 + heuristic[start], 0, start))  # (f = g + h, g, node)\n",
        "\n",
        "    # Dictionaries to keep track of the best paths\n",
        "    came_from = {start: None}\n",
        "    cost_so_far = {start: 0}\n",
        "\n",
        "    while open_list:\n",
        "        # Get the node with the lowest f value\n",
        "        _, current_cost, current = heapq.heappop(open_list)\n",
        "\n",
        "        # If the current node is the goal, reconstruct the path\n",
        "        if current == goal:\n",
        "            break\n",
        "\n",
        "        for neighbor, edge_cost in graph[current]:\n",
        "            new_cost = current_cost + edge_cost  # Calculate g(new node)\n",
        "            # If the neighbor has not been explored yet or a cheaper path is found\n",
        "            if neighbor not in cost_so_far or new_cost < cost_so_far[neighbor]:\n",
        "                cost_so_far[neighbor] = new_cost\n",
        "                priority = new_cost + heuristic[neighbor]  # Calculate f(new node) = g + h\n",
        "                heapq.heappush(open_list, (priority, new_cost, neighbor))\n",
        "                came_from[neighbor] = current\n",
        "\n",
        "    # Reconstruct the path from goal to start\n",
        "    path = []\n",
        "    node = goal\n",
        "    while node is not None:\n",
        "        path.append(node)\n",
        "        node = came_from[node]\n",
        "    path.reverse()\n",
        "    return path\n",
        "\n",
        "# Define the graph as an adjacency list with edge costs\n",
        "graph = {\n",
        "    'A': [('B', 1), ('C', 4), ('D', 2)],\n",
        "    'B': [('E', 6)],\n",
        "    'C': [('E', 2)],\n",
        "    'D': [('E', 3)],\n",
        "    'E': []\n",
        "}\n",
        "\n",
        "# Define heuristic values for each node\n",
        "heuristic = {\n",
        "    'A': 5,\n",
        "    'B': 3,\n",
        "    'C': 3,\n",
        "    'D': 6,\n",
        "    'E': 0\n",
        "}\n",
        "\n",
        "# Run A* Search from node 'A' to node 'E'\n",
        "path = a_star_search(graph, 'A', 'E', heuristic)\n",
        "print(\"Path found by A* Search:\", path)\n"
      ]
    },
    {
      "cell_type": "markdown",
      "metadata": {
        "id": "Dd0H0Yhw-IC6"
      },
      "source": [
        "Assignment Part"
      ]
    },
    {
      "cell_type": "markdown",
      "metadata": {
        "id": "V618-MAT-MLK"
      },
      "source": [
        "Admissible (but not consistant) Heuristics"
      ]
    },
    {
      "cell_type": "code",
      "execution_count": null,
      "metadata": {
        "id": "Od_F-3aB-D_9"
      },
      "outputs": [],
      "source": [
        "heuristic = {\n",
        "    #define an admisible heuristic set\n",
        "    'A': 7,\n",
        "    'B': 5,\n",
        "    'C': 8,\n",
        "    'D': 6,\n",
        "    'E': 0\n",
        "}\n",
        "\n",
        "# Run A* Search from node 'A' to node 'E'\n",
        "path = a_star_search(graph, 'A', 'E', heuristic)\n",
        "print(\"Path found by A* Search:\", path)\n",
        "\n",
        "# Run Best-First Search from node 'A' to node 'E'\n",
        "path = best_first_search(graph, 'A', 'E', heuristic)\n",
        "print(\"Path found by Best-First Search:\", path)\n"
      ]
    },
    {
      "cell_type": "markdown",
      "metadata": {
        "id": "zXANU_2_-4vN"
      },
      "source": [
        "Consistant Heuristics"
      ]
    },
    {
      "cell_type": "code",
      "execution_count": null,
      "metadata": {
        "id": "GhaqR7ox-36p"
      },
      "outputs": [],
      "source": [
        "heuristic = {\n",
        "    #define a consistant heuristic set\n",
        "    'A': 0,\n",
        "    'B': 3,\n",
        "    'C': 3,\n",
        "    'D': 2,\n",
        "    'E': 0\n",
        "}\n",
        "\n",
        "# Run A* Search from node 'A' to node 'E'\n",
        "path = a_star_search(graph, 'A', 'E', heuristic)\n",
        "print(\"Path found by A* Search:\", path)\n",
        "\n",
        "# Run Best-First Search from node 'A' to node 'E'\n",
        "path = best_first_search(graph, 'A', 'E', heuristic)\n",
        "print(\"Path found by Best-First Search:\", path)"
      ]
    },
    {
      "cell_type": "markdown",
      "metadata": {
        "id": "uP4gWGyu_Ivk"
      },
      "source": [
        "Random Heuristics"
      ]
    },
    {
      "cell_type": "code",
      "execution_count": null,
      "metadata": {
        "id": "Y32qc9IN_DcR"
      },
      "outputs": [],
      "source": [
        "heuristic = {\n",
        "    #define a random heuristic set\n",
        "    'A': 1,\n",
        "    'B': 4,\n",
        "    'C': 2,\n",
        "    'D': 5,\n",
        "    'E': 3\n",
        "}\n",
        "\n",
        "# Run A* Search from node 'A' to node 'E'\n",
        "path = a_star_search(graph, 'A', 'E', heuristic)\n",
        "print(\"Path found by A* Search:\", path)\n",
        "\n",
        "# Run Best-First Search from node 'A' to node 'E'\n",
        "path = best_first_search(graph, 'A', 'E', heuristic)\n",
        "print(\"Path found by Best-First Search:\", path)"
      ]
    }
  ],
  "metadata": {
    "colab": {
      "provenance": []
    },
    "kernelspec": {
      "display_name": "Python 3",
      "name": "python3"
    },
    "language_info": {
      "name": "python"
    }
  },
  "nbformat": 4,
  "nbformat_minor": 0
}
